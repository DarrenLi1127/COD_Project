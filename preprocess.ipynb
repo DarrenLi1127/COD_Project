{
 "cells": [
  {
   "cell_type": "code",
   "execution_count": 1,
   "metadata": {},
   "outputs": [],
   "source": [
    "import os\n",
    "from os.path import join, dirname\n",
    "from tqdm import tqdm"
   ]
  },
  {
   "cell_type": "code",
   "execution_count": 5,
   "metadata": {},
   "outputs": [],
   "source": [
    "def filter_image(image_name):\n",
    "    image_no_ext = image_name.split('.')[0]\n",
    "    splits = image_no_ext.split('-')\n",
    "    cam_avail = splits[1]\n",
    "    if cam_avail == 'NonCAM':\n",
    "        return False  # NonCAM images don't have a camera\n",
    "    class_name = splits[3]\n",
    "    if not(class_name in ['Flying', 'Terrestrial']):\n",
    "        return False\n",
    "    subject = splits[5]\n",
    "    # if class_name == 'Flying':\n",
    "    #     if not(subject in ['Mockingbird', 'Heron', 'Bird', 'Bat', 'Owl']):\n",
    "    #         return False\n",
    "    # else:\n",
    "    #     if not(subject in ['Wolf', 'Tiger', 'Rabbit', 'Monkey', 'Leopard', 'Dog', 'Deer', 'Cat', 'Lion', 'Giraffe', 'Sheep']):\n",
    "    #         return False\n",
    "    # print(f\"Dataset: {class_name}, Subject: {subject}\")\n",
    "    return True\n",
    "    "
   ]
  },
  {
   "cell_type": "code",
   "execution_count": 6,
   "metadata": {},
   "outputs": [
    {
     "name": "stderr",
     "output_type": "stream",
     "text": [
      "100%|██████████| 6000/6000 [00:03<00:00, 1996.00it/s]\n"
     ]
    },
    {
     "name": "stdout",
     "output_type": "stream",
     "text": [
      "2033\n"
     ]
    },
    {
     "name": "stderr",
     "output_type": "stream",
     "text": [
      "100%|██████████| 6000/6000 [00:02<00:00, 2671.55it/s]\n"
     ]
    },
    {
     "name": "stdout",
     "output_type": "stream",
     "text": [
      "2033\n"
     ]
    },
    {
     "name": "stderr",
     "output_type": "stream",
     "text": [
      "100%|██████████| 4000/4000 [00:02<00:00, 1942.53it/s]\n"
     ]
    },
    {
     "name": "stdout",
     "output_type": "stream",
     "text": [
      "1413\n"
     ]
    },
    {
     "name": "stderr",
     "output_type": "stream",
     "text": [
      "100%|██████████| 4000/4000 [00:01<00:00, 2651.25it/s]"
     ]
    },
    {
     "name": "stdout",
     "output_type": "stream",
     "text": [
      "1413\n"
     ]
    },
    {
     "name": "stderr",
     "output_type": "stream",
     "text": [
      "\n"
     ]
    }
   ],
   "source": [
    "dataset_roots = {\n",
    "    'Train':\n",
    "        {\n",
    "            'Source': './data/Train',\n",
    "            'Target': './data/ours/Train'\n",
    "        },\n",
    "    'Test':\n",
    "        {\n",
    "            'Source': './data/Test',\n",
    "            'Target': './data/ours/Test'\n",
    "        }\n",
    "}\n",
    "\n",
    "subfolders = ['Image', 'GT_Object']\n",
    "for split, roots in dataset_roots.items():\n",
    "    for subfolder in subfolders:\n",
    "        source = join(roots['Source'], subfolder)\n",
    "        target = join(roots['Target'], subfolder)\n",
    "        os.makedirs(target, exist_ok=True)\n",
    "        for image_name in tqdm(os.listdir(source)):\n",
    "            if filter_image(image_name):\n",
    "                os.system(f\"cp {join(source, image_name)} {join(target, image_name)}\")\n",
    "        print(len(os.listdir(target)))"
   ]
  },
  {
   "cell_type": "code",
   "execution_count": null,
   "metadata": {},
   "outputs": [],
   "source": []
  },
  {
   "cell_type": "code",
   "execution_count": null,
   "metadata": {},
   "outputs": [],
   "source": []
  }
 ],
 "metadata": {
  "kernelspec": {
   "display_name": "cod",
   "language": "python",
   "name": "python3"
  },
  "language_info": {
   "codemirror_mode": {
    "name": "ipython",
    "version": 3
   },
   "file_extension": ".py",
   "mimetype": "text/x-python",
   "name": "python",
   "nbconvert_exporter": "python",
   "pygments_lexer": "ipython3",
   "version": "3.9.20"
  }
 },
 "nbformat": 4,
 "nbformat_minor": 2
}
